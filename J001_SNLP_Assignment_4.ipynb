{
 "cells": [
  {
   "cell_type": "markdown",
   "metadata": {
    "id": "M2_uYCS0UIA9"
   },
   "source": [
    "# J001 Assignment 4\n",
    "\n",
    "## Task 1: Query Matching System"
   ]
  },
  {
   "cell_type": "code",
   "execution_count": 21,
   "metadata": {
    "id": "6omUhfhNRnbp"
   },
   "outputs": [],
   "source": [
    "import pandas as pd, re, warnings\n",
    "from rapidfuzz import fuzz, process\n",
    "from sklearn.feature_extraction.text import TfidfVectorizer\n",
    "from sklearn.metrics.pairwise import cosine_similarity\n",
    "\n",
    "warnings.filterwarnings('ignore')"
   ]
  },
  {
   "cell_type": "code",
   "execution_count": null,
   "metadata": {
    "id": "rzonpfv1R4rQ"
   },
   "outputs": [],
   "source": [
    "query_data_new = pd.read_csv(\"data/new_queries.csv\")\n",
    "query_data_resolved = pd.read_csv(\"data/resolved_queries.csv\")\n",
    "new_queries, resolved_queries = query_data_new, query_data_resolved"
   ]
  },
  {
   "cell_type": "code",
   "execution_count": 23,
   "metadata": {
    "colab": {
     "base_uri": "https://localhost:8080/"
    },
    "id": "onM9vBkmYs8V",
    "outputId": "e58c0a34-7914-47cf-835a-ce97a4b6d541"
   },
   "outputs": [
    {
     "data": {
      "text/plain": [
       "(                              Variation_Query  Matches_With_Query_ID\n",
       " 0            Unabel to conect to the internet                      1\n",
       " 1                   Can’t connect to internet                      1\n",
       " 2                         Intenet not working                      1\n",
       " 3                Payment failed while chekout                      2\n",
       " 4   Payment did not go through during chckout                      2\n",
       " 5                  Payment issue at check out                      2\n",
       " 6    Application crashes when opening setings                      3\n",
       " 7            App crash when going to settings                      3\n",
       " 8            Settings cause the app to chrash                      3\n",
       " 9               Forgot passwrd and cant reset                      4\n",
       " 10        Forgotten password, unable to reset                      4\n",
       " 11                  I can’t reset my password                      4\n",
       " 12             Unable to uplod file to server                      5\n",
       " 13        Can't upload files on to the server                      5\n",
       " 14       File uploading to server not working                      5\n",
       " 15        No internet connection, please help                      1\n",
       " 16          Checkout page says payment failed                      2\n",
       " 17      Settings page crashes app immediately                      3\n",
       " 18            Password reset link not working                      4\n",
       " 19  Server upload fails with an error message                      5,\n",
       "    Query_ID                    Pre_Resolved_Query\n",
       " 0         1     Unable to connect to the internet\n",
       " 1         2        Payment failed during checkout\n",
       " 2         3     App crashes when opening settings\n",
       " 3         4   Forgot password and unable to reset\n",
       " 4         5  Unable to upload files to the server)"
      ]
     },
     "execution_count": 23,
     "metadata": {},
     "output_type": "execute_result"
    }
   ],
   "source": [
    "new_queries, resolved_queries"
   ]
  },
  {
   "cell_type": "markdown",
   "metadata": {
    "id": "37Em50T2SAFM"
   },
   "source": [
    "### Text Preprocessing"
   ]
  },
  {
   "cell_type": "code",
   "execution_count": 24,
   "metadata": {
    "id": "75K6ewJ5R_EG"
   },
   "outputs": [],
   "source": [
    "def clean_text_data(input_text):\n",
    "    if pd.isna(input_text) or input_text is None:\n",
    "        return \"\"\n",
    "    \n",
    "    text = str(input_text).lower()\n",
    "    text = re.sub(r'[^\\w\\s]', ' ', text)\n",
    "    text = re.sub(r'\\d+', '', text)\n",
    "    text = re.sub(r'\\s+', ' ', text).strip()\n",
    "    \n",
    "    return text\n",
    "\n",
    "new_queries[\"processed_text\"] = new_queries[\"Variation_Query\"].apply(clean_text_data)\n",
    "resolved_queries[\"processed_text\"] = resolved_queries[\"Pre_Resolved_Query\"].apply(clean_text_data)"
   ]
  },
  {
   "cell_type": "code",
   "execution_count": 25,
   "metadata": {
    "id": "hNbLAyobSNZ7"
   },
   "outputs": [],
   "source": [
    "def find_fuzzy_match(query, ref_df, threshold=70):\n",
    "    reference_texts = ref_df[\"Pre_Resolved_Query\"].tolist()\n",
    "    \n",
    "    scoring_methods = {\n",
    "        'ratio': fuzz.ratio,\n",
    "        'partial': fuzz.partial_ratio,\n",
    "        'token_sort': fuzz.token_sort_ratio,\n",
    "        'token_set': fuzz.token_set_ratio\n",
    "    }\n",
    "    \n",
    "    best_score = 0\n",
    "    best_match = None\n",
    "    best_method = None\n",
    "    \n",
    "    for method_name, scorer in scoring_methods.items():\n",
    "        result = process.extractOne(query, reference_texts, scorer=scorer)\n",
    "        if result and result[1] > best_score:\n",
    "            best_score = result[1]\n",
    "            best_match = result[0]\n",
    "            best_method = method_name\n",
    "    \n",
    "    if best_score >= threshold:\n",
    "        query_id = ref_df[ref_df[\"Pre_Resolved_Query\"] == best_match][\"Query_ID\"].iloc[0]\n",
    "        return best_method, best_match, query_id, best_score\n",
    "    \n",
    "    return None, None, None, None\n",
    "\n",
    "fuzzy_results = []\n",
    "for q in new_queries[\"Variation_Query\"]:\n",
    "    method, match, qid, score = find_fuzzy_match(q, resolved_queries)\n",
    "    fuzzy_results.append((q, method, match, qid, score))\n",
    "\n",
    "fuzzy_df = pd.DataFrame(fuzzy_results, columns=[\n",
    "    \"Query\", \"Method\", \"Match\", \"ID\", \"Score\"\n",
    "])"
   ]
  },
  {
   "cell_type": "markdown",
   "metadata": {
    "id": "v_PhX_tFSjIA"
   },
   "source": [
    "### TF-IDF and Cosine Similarity"
   ]
  },
  {
   "cell_type": "code",
   "execution_count": 26,
   "metadata": {
    "id": "nvTOJ1OSSgjT"
   },
   "outputs": [],
   "source": [
    "vectorizer = TfidfVectorizer(\n",
    "    stop_words=\"english\",\n",
    "    ngram_range=(1, 2), \n",
    "    max_features=5000,\n",
    "    min_df=1,\n",
    "    max_df=0.9\n",
    ")\n",
    "\n",
    "all_texts = new_queries[\"Variation_Query\"].tolist() + resolved_queries[\"Pre_Resolved_Query\"].tolist()\n",
    "all_vectors = vectorizer.fit_transform(all_texts)\n",
    "\n",
    "n_new = len(new_queries)\n",
    "new_tfidf = all_vectors[:n_new]\n",
    "resolved_tfidf = all_vectors[n_new:]\n",
    "\n",
    "cosine_scores = cosine_similarity(new_tfidf, resolved_tfidf)\n",
    "\n",
    "tfidf_results_list = []\n",
    "for i, query_text in enumerate(new_queries[\"Variation_Query\"]):\n",
    "    best_idx = cosine_scores[i].argmax()\n",
    "    similarity_score = cosine_scores[i][best_idx]\n",
    "    matched_entry = resolved_queries.iloc[best_idx]\n",
    "    tfidf_results_list.append((query_text, matched_entry[\"Pre_Resolved_Query\"], matched_entry[\"Query_ID\"], similarity_score))\n",
    "\n",
    "tfidf_results = pd.DataFrame(tfidf_results_list, columns=[\n",
    "    \"Unresolved_Query\", \"TFIDF_Match\", \"TFIDF_Query_ID\", \"TFIDF_Score\"\n",
    "])"
   ]
  },
  {
   "cell_type": "code",
   "execution_count": 27,
   "metadata": {
    "id": "_kO6IkzHSzJV"
   },
   "outputs": [],
   "source": [
    "fuzzy_matches = [(row[\"Query\"], row[\"Method\"], row[\"Match\"], row[\"ID\"], row[\"Score\"]) \n",
    "                 for _, row in fuzzy_df.iterrows()]\n",
    "\n",
    "tfidf_matches = [(row[\"Unresolved_Query\"], row[\"TFIDF_Match\"], row[\"TFIDF_Query_ID\"], row[\"TFIDF_Score\"]) \n",
    "                 for _, row in tfidf_results.iterrows()]\n",
    "\n",
    "fuzzy_clean = pd.DataFrame(fuzzy_matches, columns=[\n",
    "    \"Unresolved_Query\", \"Best_Method\", \"Fuzzy_Match\", \"Fuzzy_Query_ID\", \"Fuzzy_Score\"\n",
    "])\n",
    "\n",
    "tfidf_clean = pd.DataFrame(tfidf_matches, columns=[\n",
    "    \"Unresolved_Query\", \"TFIDF_Match\", \"TFIDF_Query_ID\", \"TFIDF_Score\"\n",
    "])\n",
    "\n",
    "combined = pd.merge(fuzzy_clean, tfidf_clean, on=\"Unresolved_Query\", how=\"inner\")"
   ]
  },
  {
   "cell_type": "markdown",
   "metadata": {
    "id": "ElS3390nT1gG"
   },
   "source": [
    "### Final Match Selection"
   ]
  },
  {
   "cell_type": "code",
   "execution_count": 28,
   "metadata": {
    "id": "F69jF1vaQhxY"
   },
   "outputs": [
    {
     "data": {
      "text/html": [
       "<div>\n",
       "<style scoped>\n",
       "    .dataframe tbody tr th:only-of-type {\n",
       "        vertical-align: middle;\n",
       "    }\n",
       "\n",
       "    .dataframe tbody tr th {\n",
       "        vertical-align: top;\n",
       "    }\n",
       "\n",
       "    .dataframe thead th {\n",
       "        text-align: right;\n",
       "    }\n",
       "</style>\n",
       "<table border=\"1\" class=\"dataframe\">\n",
       "  <thead>\n",
       "    <tr style=\"text-align: right;\">\n",
       "      <th></th>\n",
       "      <th>Unresolved_Query</th>\n",
       "      <th>Fuzzy_Match</th>\n",
       "      <th>Method_Used</th>\n",
       "    </tr>\n",
       "  </thead>\n",
       "  <tbody>\n",
       "    <tr>\n",
       "      <th>0</th>\n",
       "      <td>Unabel to conect to the internet</td>\n",
       "      <td>Unable to connect to the internet</td>\n",
       "      <td>Fuzzy-ratio</td>\n",
       "    </tr>\n",
       "    <tr>\n",
       "      <th>1</th>\n",
       "      <td>Can’t connect to internet</td>\n",
       "      <td>Unable to connect to the internet</td>\n",
       "      <td>Fuzzy-token_set</td>\n",
       "    </tr>\n",
       "    <tr>\n",
       "      <th>2</th>\n",
       "      <td>Intenet not working</td>\n",
       "      <td>None</td>\n",
       "      <td>No Match</td>\n",
       "    </tr>\n",
       "    <tr>\n",
       "      <th>3</th>\n",
       "      <td>Payment failed while chekout</td>\n",
       "      <td>Payment failed during checkout</td>\n",
       "      <td>Fuzzy-ratio</td>\n",
       "    </tr>\n",
       "    <tr>\n",
       "      <th>4</th>\n",
       "      <td>Payment did not go through during chckout</td>\n",
       "      <td>Payment failed during checkout</td>\n",
       "      <td>No Match</td>\n",
       "    </tr>\n",
       "    <tr>\n",
       "      <th>5</th>\n",
       "      <td>Payment issue at check out</td>\n",
       "      <td>Payment failed during checkout</td>\n",
       "      <td>No Match</td>\n",
       "    </tr>\n",
       "    <tr>\n",
       "      <th>6</th>\n",
       "      <td>Application crashes when opening setings</td>\n",
       "      <td>App crashes when opening settings</td>\n",
       "      <td>Fuzzy-partial</td>\n",
       "    </tr>\n",
       "    <tr>\n",
       "      <th>7</th>\n",
       "      <td>App crash when going to settings</td>\n",
       "      <td>App crashes when opening settings</td>\n",
       "      <td>Fuzzy-ratio</td>\n",
       "    </tr>\n",
       "    <tr>\n",
       "      <th>8</th>\n",
       "      <td>Settings cause the app to chrash</td>\n",
       "      <td>None</td>\n",
       "      <td>No Match</td>\n",
       "    </tr>\n",
       "    <tr>\n",
       "      <th>9</th>\n",
       "      <td>Forgot passwrd and cant reset</td>\n",
       "      <td>Forgot password and unable to reset</td>\n",
       "      <td>Fuzzy-ratio</td>\n",
       "    </tr>\n",
       "    <tr>\n",
       "      <th>10</th>\n",
       "      <td>Forgotten password, unable to reset</td>\n",
       "      <td>Forgot password and unable to reset</td>\n",
       "      <td>Fuzzy-token_sort</td>\n",
       "    </tr>\n",
       "    <tr>\n",
       "      <th>11</th>\n",
       "      <td>I can’t reset my password</td>\n",
       "      <td>Forgot password and unable to reset</td>\n",
       "      <td>No Match</td>\n",
       "    </tr>\n",
       "    <tr>\n",
       "      <th>12</th>\n",
       "      <td>Unable to uplod file to server</td>\n",
       "      <td>Unable to upload files to the server</td>\n",
       "      <td>Fuzzy-ratio</td>\n",
       "    </tr>\n",
       "    <tr>\n",
       "      <th>13</th>\n",
       "      <td>Can't upload files on to the server</td>\n",
       "      <td>Unable to upload files to the server</td>\n",
       "      <td>Fuzzy-token_set</td>\n",
       "    </tr>\n",
       "    <tr>\n",
       "      <th>14</th>\n",
       "      <td>File uploading to server not working</td>\n",
       "      <td>None</td>\n",
       "      <td>No Match</td>\n",
       "    </tr>\n",
       "    <tr>\n",
       "      <th>15</th>\n",
       "      <td>No internet connection, please help</td>\n",
       "      <td>None</td>\n",
       "      <td>No Match</td>\n",
       "    </tr>\n",
       "    <tr>\n",
       "      <th>16</th>\n",
       "      <td>Checkout page says payment failed</td>\n",
       "      <td>None</td>\n",
       "      <td>No Match</td>\n",
       "    </tr>\n",
       "    <tr>\n",
       "      <th>17</th>\n",
       "      <td>Settings page crashes app immediately</td>\n",
       "      <td>None</td>\n",
       "      <td>No Match</td>\n",
       "    </tr>\n",
       "    <tr>\n",
       "      <th>18</th>\n",
       "      <td>Password reset link not working</td>\n",
       "      <td>None</td>\n",
       "      <td>No Match</td>\n",
       "    </tr>\n",
       "    <tr>\n",
       "      <th>19</th>\n",
       "      <td>Server upload fails with an error message</td>\n",
       "      <td>None</td>\n",
       "      <td>No Match</td>\n",
       "    </tr>\n",
       "  </tbody>\n",
       "</table>\n",
       "</div>"
      ],
      "text/plain": [
       "                             Unresolved_Query  \\\n",
       "0            Unabel to conect to the internet   \n",
       "1                   Can’t connect to internet   \n",
       "2                         Intenet not working   \n",
       "3                Payment failed while chekout   \n",
       "4   Payment did not go through during chckout   \n",
       "5                  Payment issue at check out   \n",
       "6    Application crashes when opening setings   \n",
       "7            App crash when going to settings   \n",
       "8            Settings cause the app to chrash   \n",
       "9               Forgot passwrd and cant reset   \n",
       "10        Forgotten password, unable to reset   \n",
       "11                  I can’t reset my password   \n",
       "12             Unable to uplod file to server   \n",
       "13        Can't upload files on to the server   \n",
       "14       File uploading to server not working   \n",
       "15        No internet connection, please help   \n",
       "16          Checkout page says payment failed   \n",
       "17      Settings page crashes app immediately   \n",
       "18            Password reset link not working   \n",
       "19  Server upload fails with an error message   \n",
       "\n",
       "                             Fuzzy_Match       Method_Used  \n",
       "0      Unable to connect to the internet       Fuzzy-ratio  \n",
       "1      Unable to connect to the internet   Fuzzy-token_set  \n",
       "2                                   None          No Match  \n",
       "3         Payment failed during checkout       Fuzzy-ratio  \n",
       "4         Payment failed during checkout          No Match  \n",
       "5         Payment failed during checkout          No Match  \n",
       "6      App crashes when opening settings     Fuzzy-partial  \n",
       "7      App crashes when opening settings       Fuzzy-ratio  \n",
       "8                                   None          No Match  \n",
       "9    Forgot password and unable to reset       Fuzzy-ratio  \n",
       "10   Forgot password and unable to reset  Fuzzy-token_sort  \n",
       "11   Forgot password and unable to reset          No Match  \n",
       "12  Unable to upload files to the server       Fuzzy-ratio  \n",
       "13  Unable to upload files to the server   Fuzzy-token_set  \n",
       "14                                  None          No Match  \n",
       "15                                  None          No Match  \n",
       "16                                  None          No Match  \n",
       "17                                  None          No Match  \n",
       "18                                  None          No Match  \n",
       "19                                  None          No Match  "
      ]
     },
     "execution_count": 28,
     "metadata": {},
     "output_type": "execute_result"
    }
   ],
   "source": [
    "def pick_final(row, fuzzy_thresh=75, tfidf_thresh=0.65):\n",
    "    if row[\"Fuzzy_Score\"] and row[\"Fuzzy_Score\"] >= fuzzy_thresh:\n",
    "        return row[\"Fuzzy_Match\"], row[\"Fuzzy_Query_ID\"], f\"Fuzzy-{row['Best_Method']}\"\n",
    "    elif row[\"TFIDF_Score\"] >= tfidf_thresh:\n",
    "        return row[\"TFIDF_Match\"], row[\"TFIDF_Query_ID\"], \"TFIDF\"\n",
    "    else:\n",
    "        return None, None, \"No Match\"\n",
    "\n",
    "combined[[\"Final_Match\", \"Final_Query_ID\", \"Method_Used\"]] = combined.apply(\n",
    "    pick_final, axis=1, result_type=\"expand\"\n",
    ")\n",
    "\n",
    "combined[['Unresolved_Query', 'Fuzzy_Match', 'Method_Used']]"
   ]
  },
  {
   "cell_type": "markdown",
   "metadata": {
    "id": "P0Z6icU9UPFs"
   },
   "source": [
    "## Task 2: Name Matching System"
   ]
  },
  {
   "cell_type": "code",
   "execution_count": null,
   "metadata": {
    "id": "fimYA_sHXqZG"
   },
   "outputs": [
    {
     "data": {
      "text/plain": [
       "(    Base_Name_ID          Base_Name\n",
       " 0              1         John Smith\n",
       " 1              2     Jennifer Brown\n",
       " 2              3   Michael O'Connor\n",
       " 3              4       Maria Garcia\n",
       " 4              5         Robert Lee\n",
       " 5              6      Linda Johnson\n",
       " 6              7      William Davis\n",
       " 7              8   Elizabeth Wilson\n",
       " 8              9     David Martinez\n",
       " 9             10        Susan Clark\n",
       " 10            11    James Rodriguez\n",
       " 11            12         Mary Lewis\n",
       " 12            13         Paul Allen\n",
       " 13            14        Karen Young\n",
       " 14            15        Thomas King\n",
       " 15            16       Nancy Wright\n",
       " 16            17       Daniel Scott\n",
       " 17            18        Sandra Hill\n",
       " 18            19  Christopher Green\n",
       " 19            20      Jessica Adams,\n",
       "           Variation Matches_With_Base_Name\n",
       " 0      Thomas  King            Thomas King\n",
       " 1        ThomasKing            Thomas King\n",
       " 2      Maria Garcia           Maria Garcia\n",
       " 3         MaryLewis             Mary Lewis\n",
       " 4          Nancy W.           Nancy Wright\n",
       " ..              ...                    ...\n",
       " 95  Jennifer- Brown         Jennifer Brown\n",
       " 96    Daniel- Scott           Daniel Scott\n",
       " 97         David M.         David Martinez\n",
       " 98      Paul Allen.             Paul Allen\n",
       " 99      Paul  Allen             Paul Allen\n",
       " \n",
       " [100 rows x 2 columns])"
      ]
     },
     "execution_count": 29,
     "metadata": {},
     "output_type": "execute_result"
    }
   ],
   "source": [
    "name_variations = pd.read_csv(\"data/name_variations.csv\")\n",
    "base_names = pd.read_csv(\"data/base_names.csv\")\n",
    "\n",
    "base_names, name_variations"
   ]
  },
  {
   "cell_type": "code",
   "execution_count": 30,
   "metadata": {
    "id": "_I16qea2VPT9"
   },
   "outputs": [],
   "source": [
    "def normalize_name(name: str) -> str:\n",
    "    if pd.isna(name):\n",
    "        return \"\"\n",
    "    name = name.strip()\n",
    "    name = re.sub(r'(?<=[a-z])(?=[A-Z])', ' ', name)\n",
    "    name = name.lower()\n",
    "    name = re.sub(r'[^a-z\\s]', '', name)\n",
    "    name = re.sub(r'\\s+', ' ', name).strip()\n",
    "    return name\n",
    "\n",
    "name_variations[\"Normalized\"] = name_variations[\"Variation\"].astype(str).apply(normalize_name)\n",
    "base_names[\"Normalized\"] = base_names[\"Base_Name\"].astype(str).apply(normalize_name)"
   ]
  },
  {
   "cell_type": "markdown",
   "metadata": {
    "id": "MAwnrMOmYDrC"
   },
   "source": [
    "### Token Sort Ratio Matching"
   ]
  },
  {
   "cell_type": "code",
   "execution_count": 31,
   "metadata": {
    "id": "Br78BUKhYCYy"
   },
   "outputs": [],
   "source": [
    "def get_best_match(name, base_names, threshold=80):\n",
    "    match = process.extractOne(\n",
    "        name,\n",
    "        base_names[\"Normalized\"].tolist(),\n",
    "        scorer=fuzz.token_sort_ratio\n",
    "    )\n",
    "    if match and match[1] >= threshold:\n",
    "        matched_row = base_names.loc[base_names[\"Normalized\"] == match[0], \"Base_Name\"].values[0]\n",
    "        return matched_row, match[1]\n",
    "    return None, None\n",
    "\n",
    "results = []\n",
    "for name, norm in zip(name_variations[\"Variation\"], name_variations[\"Normalized\"]):\n",
    "    matched_name, score = get_best_match(norm, base_names)\n",
    "    results.append((name, matched_name, score))"
   ]
  },
  {
   "cell_type": "markdown",
   "metadata": {
    "id": "UGdC8t9OYdz3"
   },
   "source": [
    "### Results DataFrame"
   ]
  },
  {
   "cell_type": "code",
   "execution_count": 32,
   "metadata": {
    "colab": {
     "base_uri": "https://localhost:8080/",
     "height": 520
    },
    "id": "2LArnrG2YbTD",
    "outputId": "f143404e-c5e0-4b95-a491-1ed8214b3368"
   },
   "outputs": [
    {
     "data": {
      "text/html": [
       "<div>\n",
       "<style scoped>\n",
       "    .dataframe tbody tr th:only-of-type {\n",
       "        vertical-align: middle;\n",
       "    }\n",
       "\n",
       "    .dataframe tbody tr th {\n",
       "        vertical-align: top;\n",
       "    }\n",
       "\n",
       "    .dataframe thead th {\n",
       "        text-align: right;\n",
       "    }\n",
       "</style>\n",
       "<table border=\"1\" class=\"dataframe\">\n",
       "  <thead>\n",
       "    <tr style=\"text-align: right;\">\n",
       "      <th></th>\n",
       "      <th>Variation_Name</th>\n",
       "      <th>Matched_Base_Name</th>\n",
       "      <th>Score</th>\n",
       "    </tr>\n",
       "  </thead>\n",
       "  <tbody>\n",
       "    <tr>\n",
       "      <th>0</th>\n",
       "      <td>Thomas  King</td>\n",
       "      <td>Thomas King</td>\n",
       "      <td>100.000000</td>\n",
       "    </tr>\n",
       "    <tr>\n",
       "      <th>1</th>\n",
       "      <td>ThomasKing</td>\n",
       "      <td>Thomas King</td>\n",
       "      <td>100.000000</td>\n",
       "    </tr>\n",
       "    <tr>\n",
       "      <th>2</th>\n",
       "      <td>Maria Garcia</td>\n",
       "      <td>Maria Garcia</td>\n",
       "      <td>100.000000</td>\n",
       "    </tr>\n",
       "    <tr>\n",
       "      <th>3</th>\n",
       "      <td>MaryLewis</td>\n",
       "      <td>Mary Lewis</td>\n",
       "      <td>100.000000</td>\n",
       "    </tr>\n",
       "    <tr>\n",
       "      <th>4</th>\n",
       "      <td>Nancy W.</td>\n",
       "      <td>None</td>\n",
       "      <td>NaN</td>\n",
       "    </tr>\n",
       "    <tr>\n",
       "      <th>5</th>\n",
       "      <td>Dani3l Scott</td>\n",
       "      <td>Daniel Scott</td>\n",
       "      <td>95.652174</td>\n",
       "    </tr>\n",
       "    <tr>\n",
       "      <th>6</th>\n",
       "      <td>JOHN  smith</td>\n",
       "      <td>John Smith</td>\n",
       "      <td>100.000000</td>\n",
       "    </tr>\n",
       "    <tr>\n",
       "      <th>7</th>\n",
       "      <td>linda johnson</td>\n",
       "      <td>Linda Johnson</td>\n",
       "      <td>100.000000</td>\n",
       "    </tr>\n",
       "    <tr>\n",
       "      <th>8</th>\n",
       "      <td>N@ncy Wright</td>\n",
       "      <td>Nancy Wright</td>\n",
       "      <td>95.652174</td>\n",
       "    </tr>\n",
       "    <tr>\n",
       "      <th>9</th>\n",
       "      <td>William Davis</td>\n",
       "      <td>William Davis</td>\n",
       "      <td>100.000000</td>\n",
       "    </tr>\n",
       "    <tr>\n",
       "      <th>10</th>\n",
       "      <td>Susan  Clark</td>\n",
       "      <td>Susan Clark</td>\n",
       "      <td>100.000000</td>\n",
       "    </tr>\n",
       "    <tr>\n",
       "      <th>11</th>\n",
       "      <td>SusanClark</td>\n",
       "      <td>Susan Clark</td>\n",
       "      <td>100.000000</td>\n",
       "    </tr>\n",
       "    <tr>\n",
       "      <th>12</th>\n",
       "      <td>Jennifer- Brown</td>\n",
       "      <td>Jennifer Brown</td>\n",
       "      <td>100.000000</td>\n",
       "    </tr>\n",
       "    <tr>\n",
       "      <th>13</th>\n",
       "      <td>Michael O'Connor</td>\n",
       "      <td>Michael O'Connor</td>\n",
       "      <td>100.000000</td>\n",
       "    </tr>\n",
       "    <tr>\n",
       "      <th>14</th>\n",
       "      <td>Rodriguez James</td>\n",
       "      <td>James Rodriguez</td>\n",
       "      <td>100.000000</td>\n",
       "    </tr>\n",
       "  </tbody>\n",
       "</table>\n",
       "</div>"
      ],
      "text/plain": [
       "      Variation_Name Matched_Base_Name       Score\n",
       "0       Thomas  King       Thomas King  100.000000\n",
       "1         ThomasKing       Thomas King  100.000000\n",
       "2       Maria Garcia      Maria Garcia  100.000000\n",
       "3          MaryLewis        Mary Lewis  100.000000\n",
       "4           Nancy W.              None         NaN\n",
       "5       Dani3l Scott      Daniel Scott   95.652174\n",
       "6        JOHN  smith        John Smith  100.000000\n",
       "7      linda johnson     Linda Johnson  100.000000\n",
       "8       N@ncy Wright      Nancy Wright   95.652174\n",
       "9      William Davis     William Davis  100.000000\n",
       "10      Susan  Clark       Susan Clark  100.000000\n",
       "11        SusanClark       Susan Clark  100.000000\n",
       "12   Jennifer- Brown    Jennifer Brown  100.000000\n",
       "13  Michael O'Connor  Michael O'Connor  100.000000\n",
       "14   Rodriguez James   James Rodriguez  100.000000"
      ]
     },
     "execution_count": 32,
     "metadata": {},
     "output_type": "execute_result"
    }
   ],
   "source": [
    "matches_df = pd.DataFrame(results, columns=[\"Variation_Name\", \"Matched_Base_Name\", \"Score\"])\n",
    "matches_df.head(15)"
   ]
  },
  {
   "cell_type": "code",
   "execution_count": 33,
   "metadata": {
    "colab": {
     "base_uri": "https://localhost:8080/"
    },
    "id": "vOS9fu2tWGYR",
    "outputId": "535970b1-fbe3-4d7b-db01-4d3d800b17f8"
   },
   "outputs": [
    {
     "data": {
      "text/plain": [
       "0.95"
      ]
     },
     "execution_count": 33,
     "metadata": {},
     "output_type": "execute_result"
    }
   ],
   "source": [
    "from sklearn.metrics import accuracy_score\n",
    "\n",
    "y_true = name_variations['Matches_With_Base_Name'].fillna(\"No Match\")\n",
    "y_pred = matches_df['Matched_Base_Name'].fillna(\"No Match\")\n",
    "\n",
    "accuracy_score(y_true, y_pred)"
   ]
  }
 ],
 "metadata": {
  "colab": {
   "provenance": []
  },
  "kernelspec": {
   "display_name": "main",
   "language": "python",
   "name": "python3"
  },
  "language_info": {
   "codemirror_mode": {
    "name": "ipython",
    "version": 3
   },
   "file_extension": ".py",
   "mimetype": "text/x-python",
   "name": "python",
   "nbconvert_exporter": "python",
   "pygments_lexer": "ipython3",
   "version": "3.13.5"
  }
 },
 "nbformat": 4,
 "nbformat_minor": 0
}
